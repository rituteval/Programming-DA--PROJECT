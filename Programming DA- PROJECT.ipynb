{
 "cells": [
  {
   "cell_type": "markdown",
   "metadata": {},
   "source": [
    "# Project for Programming Data Analysis\n"
   ]
  },
  {
   "cell_type": "markdown",
   "metadata": {},
   "source": [
    "#    Simulation of Real-World Data"
   ]
  },
  {
   "cell_type": "markdown",
   "metadata": {},
   "source": [
    "By student- Rita Valciukiene(G00376585)"
   ]
  },
  {
   "cell_type": "markdown",
   "metadata": {},
   "source": [
    "Lecturer: Dr. Brian Mc'Ginley"
   ]
  },
  {
   "cell_type": "markdown",
   "metadata": {},
   "source": [
    "### Content: \n",
    "- To collect dataset about real world phenomenon across at least  one hundred data points and at least 4 variables.\n",
    "- Investigate the types of variables involved- distributions and relationships between them.\n",
    "- Simulate a dataset as closely matching their properties as possible.\n",
    "- Implement the simuliation using the Jupyter Notebook. \n",
    "    Detail research and implement the simulation in a Jupyter notebook.\n",
    "\n"
   ]
  },
  {
   "cell_type": "markdown",
   "metadata": {},
   "source": [
    "Work plan\n",
    "\n",
    "   First of all I have to find out World real phenomenon dataset and understand the sense of the dataset.\n",
    "\n",
    "   The aim here is to get a general idea of the pre-dominant characteristics of the real world phenomenon dataset. For example, if i do economic forecast- what was previous forecasts, what is predicted for coming year? What is the most common problem? and so on; or if I choose populiarity on using social media in Lithuania, in which cities, is it popular to buy things using social media, how it is impact people?\n",
    "   These questions can be answered through the effective utilization of data visualization and data summarization techniques such as bar plots and contingency tables on categorical variables such as. The relevant categorical variables that serve as good potential predictors and it will contain a percentage bar plot and a contingency table as a means of summarizing counts and counts as percentages, and of course simulation data."
   ]
  },
  {
   "cell_type": "markdown",
   "metadata": {},
   "source": [
    "#### Overview : Defining Simulation\n",
    "\n",
    "A simulation is the imitation of the operation of a real world - process or system over time. Simulation involves generation of artificial history of a system and drawing inferences from it.\n",
    "The behavior of a system as it evolves over time is studied by developing a simulation model. This model takes the form of a set of assumptions concerning the operation of a system. The model takes a set of expressed assumptions:\n",
    "- Mathematical, logical\n",
    "- Symbolic relationship between the entities.\n",
    "\n",
    "Sometimes simulation can be useful tool, and sometimes can be not useful tool. So what it is useful when, we have a complex system and we have a simulation it helps us understand internal interactions, that go behind or the relationships, that are there between the entities and you can understand better how these entities interact with each other rather than just having the complex system being deployed and then understanding it. \n",
    "- When Simulation is the appropriate tool?\n",
    "Simulation enables to study of and experimentation with the internal interactions of a complex system, or of a subsystem within a complex system.\n",
    "Informational, organizational and environmental changes can be simulated and the effect of those alternations on the models can be observed. The knowledge gained in designing a simulatiom model can be of great value toward suggesting improvement in the system under investigation.\n",
    "By changing simulation inputs and observing the resulting outputs, valuable insight may be obtained into which variables are most important and how variables interact.\n",
    "Simulation can be used as a device to reinforce analytic solution methodologies.\n",
    "Simulation can be used to experiment with new designs or policies prior to implementation, so as to prepare for what may happen.\n",
    "\n",
    "- State of the System: The state of a system is defined as the collection of variables necessary to describe a system at any time,relative to the objective of study (state of the system mean a description of all the entities, attributes and activities as they exist at one point in time)\n",
    "##### Model of a system \n",
    "Mathematical model- uses symbolic notation and the mathematical equations to represent a system. \n",
    "Static model- represents a system at a particular point of time and also known as Monte Carlo simulation.\n",
    "Dynamic model- represents systems as they change over time.\n",
    "Deterministic model- vontains no random variables. They have a known set of inputs which will results in a unique set of outputs.\n",
    "Stochastic model- has one or more random variable as inputs. Random inputs leads to random outputs for eg. :Simulation of a bank involves random interrival and service times.\n",
    "Discrete-Event System Simulation- modeling odf systems in which the state variable changes only at a discrete set of points in a time. The simulation models are analyzed by numerical rather than by analytical methods. (Source)\n"
   ]
  },
  {
   "cell_type": "markdown",
   "metadata": {},
   "source": [
    "#### Overview: What is Synthetic data?\n",
    "\n",
    "Synthetic data is information that's artificially manufactured rather than generated by real-world events. Synthetic data is created algorithmically, and it is used as a stand-in for test datasets of production or operational data, to validate mathematical models, increasingly, to train machine learning models.\n",
    "Simulation, allows us to build a mathematical model of the world and run it several times on a computer. This allows us to evaluate various decisions and choose between them. That is - make decisions. Experiments with real world systems are high-risk, accompanied by high costs or not even possible at all. That’s when simulations come into play.  \n",
    "Python is very good language for statistics and probabilities."
   ]
  },
  {
   "cell_type": "markdown",
   "metadata": {},
   "source": [
    "\n",
    "#### Real Life Phenomenon\n",
    "\n",
    "I want to analyse what factors affect people to buy things through internet in Lithuania's small town based on population's age, gender and mobile usage and how it may impact their buying behaviour online.\n",
    "\n"
   ]
  },
  {
   "cell_type": "markdown",
   "metadata": {},
   "source": [
    "#### How to simulate data variables in real world pheonomenon?"
   ]
  },
  {
   "cell_type": "markdown",
   "metadata": {},
   "source": [
    "##### Abstract-  how impact people to buy things online using social media.\n",
    "\n",
    "I will investigate 4 variables across a dataset about social media usage and impact to purchase goods online on one of Lithuania's towns. I will be discussing my home town Panevezys with population 91054 people. The data is very big, I will count just 20% of this population. From Panevezys statistic research I found out that in Panevezys there are: female- 49843;  male- 38835 from age group 18- 70. I chose that age group, because to have account on social media as Facebook, Twitter, Instagram- person have to be from age of 18th, and I chose age gap to 70 years old. I did so, because by statistics, people age over 70 they are very far away from technologies.  So they or not using the social media or even do not have such an internet at mobile phones and other devises.\n"
   ]
  },
  {
   "cell_type": "markdown",
   "metadata": {},
   "source": [
    "Variables:\n",
    "\n",
    "   1. Age: 18-70(17735- the population of 20%)\n",
    "   \n",
    "   2. Gender: Female or Male(female- 49843, male- 38835)\n",
    "    \n",
    "   3. What social media using: Facebook, Twitter, Instagram, Whats up. \n",
    "    \n",
    "   4. The time usage of social media."
   ]
  },
  {
   "cell_type": "markdown",
   "metadata": {},
   "source": [
    "I researched about habbits of people buying goods in Panevezys, and I can confirm that social media is second of the most influential tool for consumers, when finding inspiration for purchases. Mostly are infuenced younger people. Consumers of Panevezys ranked social media (25%) as the second of most influential channel along with individual retailer websites. Television and radio ranked higher than other online media channels, such as blogs and digital press and magazines. With 80 % of 18-24 year olds using social media will by product online. This is a key demographic group in terms of encouraging social media engagement."
   ]
  },
  {
   "cell_type": "code",
   "execution_count": 68,
   "metadata": {},
   "outputs": [],
   "source": [
    "import pandas as pd\n",
    "import numpy as np\n",
    "import matplotlib.pyplot as plt\n",
    "import seaborn as sn\n",
    "import scipy as sp\n",
    "%matplotlib inline"
   ]
  },
  {
   "cell_type": "markdown",
   "metadata": {},
   "source": [
    "- Pandas is a software library for data maniupulation & analysis.\n",
    "- Matplotlib is a Python 2D plotting library which produces publication quality figures in a variety of hardcopy formats and interactive environments across platforms.\n",
    "- Numpy is a python library useful for large, multi-dimensional arrays & matrices, along with functions to operate on arrays. \n",
    "- Seaborn is a Python data visualization library based on matplotlib. It provides a high-level interface for drawing attractive and informative statistical graphics.\n",
    "- Scipy is a set of open source (BSD licensed) scientific and numerical tools for Python. It currently supports special functions, integration, ordinary differential equation (ODE) solvers, gradient optimization, parallel programming tools.\n",
    "- %matplotlib inline- It is a magic function that renders the figure in a notebook (instead of displaying a dump of the figure object)."
   ]
  },
  {
   "cell_type": "code",
   "execution_count": 69,
   "metadata": {},
   "outputs": [
    {
     "data": {
      "text/plain": [
       "<function matplotlib.pyplot.show(*args, **kw)>"
      ]
     },
     "execution_count": 69,
     "metadata": {},
     "output_type": "execute_result"
    },
    {
     "data": {
      "image/png": "[encoded data removed]",
      "text/plain": [
       "<Figure size 432x288 with 1 Axes>"
      ]
     },
     "metadata": {
      "needs_background": "light"
     },
     "output_type": "display_data"
    }
   ],
   "source": [
    "\n",
    "x = np.random.randn(100)\n",
    "x\n",
    "import matplotlib.pyplot as plt    # Imported matplotlib.pyplot\n",
    "\n",
    "plt.hist(x)  # Created Histogram\n",
    "plt.show     # Asked show histogram in output\n",
    "\n",
    "\n"
   ]
  },
  {
   "cell_type": "code",
   "execution_count": 70,
   "metadata": {},
   "outputs": [
    {
     "data": {
      "text/plain": [
       "57.90047410266285"
      ]
     },
     "execution_count": 70,
     "metadata": {},
     "output_type": "execute_result"
    }
   ],
   "source": [
    "np.random.seed(12345) #Seeded- seed is used that the numbers stay the same \n",
    "age = np.random.triangular(18, 30, 70) # Generated values\n",
    "age"
   ]
  },
  {
   "cell_type": "code",
   "execution_count": 71,
   "metadata": {},
   "outputs": [
    {
     "data": {
      "text/plain": [
       "array([47, 19, 54, ..., 45, 65, 68])"
      ]
     },
     "execution_count": 71,
     "metadata": {},
     "output_type": "execute_result"
    }
   ],
   "source": [
    "# Created of population 17735 age between 18 and 70 years old.\n",
    "age = np.random.randint(18,70,size=17735)\n",
    "age"
   ]
  },
  {
   "cell_type": "code",
   "execution_count": 72,
   "metadata": {},
   "outputs": [
    {
     "data": {
      "text/plain": [
       "43.45260783760925"
      ]
     },
     "execution_count": 72,
     "metadata": {},
     "output_type": "execute_result"
    }
   ],
   "source": [
    "np.mean(age)"
   ]
  },
  {
   "cell_type": "code",
   "execution_count": 73,
   "metadata": {},
   "outputs": [
    {
     "data": {
      "image/png": "[encoded data removed]",
      "text/plain": [
       "<Figure size 432x288 with 1 Axes>"
      ]
     },
     "metadata": {
      "needs_background": "light"
     },
     "output_type": "display_data"
    }
   ],
   "source": [
    "plt.hist(age) #Ploted histogram Of sequency of age\n",
    "plt.show()"
   ]
  },
  {
   "cell_type": "code",
   "execution_count": 74,
   "metadata": {},
   "outputs": [
    {
     "name": "stderr",
     "output_type": "stream",
     "text": [
      "C:\\ProgramData\\Anaconda3\\lib\\site-packages\\ipykernel_launcher.py:3: MatplotlibDeprecationWarning: \n",
      "The 'normed' kwarg was deprecated in Matplotlib 2.1 and will be removed in 3.1. Use 'density' instead.\n",
      "  This is separate from the ipykernel package so we can avoid doing imports until\n"
     ]
    },
    {
     "data": {
      "image/png": "[encoded data removed]",
      "text/plain": [
       "<Figure size 432x288 with 1 Axes>"
      ]
     },
     "metadata": {
      "needs_background": "light"
     },
     "output_type": "display_data"
    }
   ],
   "source": [
    "# Created plot\n",
    "plt.hist(np.random.triangular(18, 43, 70, 17735), bins=30,\n",
    "             normed=True, color='y')\n",
    "plt.ylabel('Frequency') # Labeled y axis\n",
    "plt.xlabel('Age') # Labeled x axis\n",
    "plt.title('Age population using social media in Panevezys') # Added title\n",
    "plt.show() # Showed Plot"
   ]
  },
  {
   "cell_type": "markdown",
   "metadata": {},
   "source": [
    "\n",
    " ####  Gender Distribution-  second variable\n",
    "\n",
    "Gender is also a huge factor to consider when analysing social media usage behaviour and of course how it influenced to buy goods. Man and woman using social media differently I suppose.\n"
   ]
  },
  {
   "cell_type": "code",
   "execution_count": 75,
   "metadata": {},
   "outputs": [
    {
     "data": {
      "text/plain": [
       "array([1, 2, 2, ..., 1, 2, 2])"
      ]
     },
     "execution_count": 75,
     "metadata": {},
     "output_type": "execute_result"
    }
   ],
   "source": [
    "np.random.seed(12345) #Seeded for that numbers stay the same every time\n",
    "#Marked gender as - Male = 1 , Female = 2\n",
    "gender = np.random.randint(1, 3, 17735) \n",
    "gender"
   ]
  },
  {
   "cell_type": "code",
   "execution_count": 76,
   "metadata": {},
   "outputs": [
    {
     "data": {
      "image/png": "[encoded data removed]",
      "text/plain": [
       "<Figure size 432x288 with 1 Axes>"
      ]
     },
     "metadata": {
      "needs_background": "light"
     },
     "output_type": "display_data"
    }
   ],
   "source": [
    "              # Ploted histrogram\n",
    "plt.hist(gender, bins=5, color='r')\n",
    "plt.ylabel(\"Social media users\") # Labeled y axis\n",
    "plt.xlabel(\"Gender - Male or Female\") # Labeled x axis\n",
    "plt.title('By gender usage of social media in Panevezys') # Added title\n",
    "plt.show() # Showed plot"
   ]
  },
  {
   "cell_type": "markdown",
   "metadata": {},
   "source": [
    "We can see from histogram above: males and females using the social media nearly the same."
   ]
  },
  {
   "cell_type": "markdown",
   "metadata": {},
   "source": [
    "##### 3 variable. What is social media is most popular.\n",
    "From my research in my home town- the most popular social accounts are: 1-facebook, 2-twitter, 3-instagram, 4-whats up. So to generate numbers I will use 4."
   ]
  },
  {
   "cell_type": "code",
   "execution_count": 77,
   "metadata": {},
   "outputs": [
    {
     "data": {
      "text/plain": [
       "array([4., 2., 2., ..., 3., 2., 3.])"
      ]
     },
     "execution_count": 77,
     "metadata": {},
     "output_type": "execute_result"
    }
   ],
   "source": [
    "np.random.seed(12345) # Seeded that numbers stay the same\n",
    "accounts = np.random.uniform(1, 4, 17735).round(0) #Generated 4 Social media accounts\n",
    "accounts "
   ]
  },
  {
   "cell_type": "code",
   "execution_count": 78,
   "metadata": {},
   "outputs": [
    {
     "data": {
      "image/png": "[encoded data removed]",
      "text/plain": [
       "<Figure size 432x288 with 1 Axes>"
      ]
     },
     "metadata": {
      "needs_background": "light"
     },
     "output_type": "display_data"
    }
   ],
   "source": [
    "plt.hist(accounts, bins=7, color='g') \n",
    "plt.ylabel('Users') # Labeled y axis\n",
    "plt.xlabel('Social media') # Labeled x axis \n",
    "plt.title('What social media people use most') # Added title\n",
    "plt.show() # Showed plot"
   ]
  },
  {
   "cell_type": "markdown",
   "metadata": {},
   "source": [
    "#### 4. Variable - how often they use phones or other devices for social media\n",
    "\n",
    " I want to estimate the distribution of a people checking their phones or other devices every day or not every day and how many times a day. Statistics taken from above show that on average a person checks their phone 40 times a day. So it is likely how more often you check phone and the adds appears on phone more influence people to buy goods. "
   ]
  },
  {
   "cell_type": "code",
   "execution_count": 79,
   "metadata": {},
   "outputs": [
    {
     "data": {
      "text/plain": [
       "array([39., 41., 38., ..., 44., 37., 39.])"
      ]
     },
     "execution_count": 79,
     "metadata": {},
     "output_type": "execute_result"
    }
   ],
   "source": [
    "np.random.seed(12345) \n",
    "\n",
    "usage = np.random.normal(40,3,17735). round(0) # Generated values\n",
    "usage"
   ]
  },
  {
   "cell_type": "code",
   "execution_count": 80,
   "metadata": {},
   "outputs": [
    {
     "data": {
      "text/plain": [
       "29.0"
      ]
     },
     "execution_count": 80,
     "metadata": {},
     "output_type": "execute_result"
    }
   ],
   "source": [
    "min(usage)"
   ]
  },
  {
   "cell_type": "code",
   "execution_count": 91,
   "metadata": {},
   "outputs": [
    {
     "data": {
      "text/plain": [
       "52.0"
      ]
     },
     "execution_count": 91,
     "metadata": {},
     "output_type": "execute_result"
    }
   ],
   "source": [
    "max(usage)"
   ]
  },
  {
   "cell_type": "code",
   "execution_count": 82,
   "metadata": {},
   "outputs": [
    {
     "data": {
      "image/png": "[encoded data removed]",
      "text/plain": [
       "<Figure size 432x288 with 1 Axes>"
      ]
     },
     "metadata": {
      "needs_background": "light"
     },
     "output_type": "display_data"
    }
   ],
   "source": [
    "plt.hist(usage,bins=40, color='g') # Added sample count, amount of bins\n",
    "plt.ylabel('Social media users') # Labeled y axis\n",
    "plt.xlabel('Times per day') # Labeled x axis \n",
    "plt.title ('Daily social media usage') # Added title\n",
    "plt.show() # Showed Plot"
   ]
  },
  {
   "cell_type": "code",
   "execution_count": 83,
   "metadata": {},
   "outputs": [
    {
     "data": {
      "text/html": [
       "<div>\n",
       "<style scoped>\n",
       "    .dataframe tbody tr th:only-of-type {\n",
       "        vertical-align: middle;\n",
       "    }\n",
       "\n",
       "    .dataframe tbody tr th {\n",
       "        vertical-align: top;\n",
       "    }\n",
       "\n",
       "    .dataframe thead th {\n",
       "        text-align: right;\n",
       "    }\n",
       "</style>\n",
       "<table border=\"1\" class=\"dataframe\">\n",
       "  <thead>\n",
       "    <tr style=\"text-align: right;\">\n",
       "      <th></th>\n",
       "      <th>Age</th>\n",
       "      <th>Gender</th>\n",
       "      <th>Devices daily usage</th>\n",
       "      <th>Most pop. social media</th>\n",
       "    </tr>\n",
       "  </thead>\n",
       "  <tbody>\n",
       "    <tr>\n",
       "      <td>0</td>\n",
       "      <td>47</td>\n",
       "      <td>Male</td>\n",
       "      <td>30.0</td>\n",
       "      <td>4.0</td>\n",
       "    </tr>\n",
       "    <tr>\n",
       "      <td>1</td>\n",
       "      <td>19</td>\n",
       "      <td>Female</td>\n",
       "      <td>39.0</td>\n",
       "      <td>1.0</td>\n",
       "    </tr>\n",
       "    <tr>\n",
       "      <td>2</td>\n",
       "      <td>54</td>\n",
       "      <td>Female</td>\n",
       "      <td>34.0</td>\n",
       "      <td>4.0</td>\n",
       "    </tr>\n",
       "    <tr>\n",
       "      <td>3</td>\n",
       "      <td>59</td>\n",
       "      <td>Female</td>\n",
       "      <td>41.0</td>\n",
       "      <td>3.0</td>\n",
       "    </tr>\n",
       "    <tr>\n",
       "      <td>4</td>\n",
       "      <td>55</td>\n",
       "      <td>Male</td>\n",
       "      <td>36.0</td>\n",
       "      <td>3.0</td>\n",
       "    </tr>\n",
       "    <tr>\n",
       "      <td>...</td>\n",
       "      <td>...</td>\n",
       "      <td>...</td>\n",
       "      <td>...</td>\n",
       "      <td>...</td>\n",
       "    </tr>\n",
       "    <tr>\n",
       "      <td>17730</td>\n",
       "      <td>30</td>\n",
       "      <td>Male</td>\n",
       "      <td>38.0</td>\n",
       "      <td>3.0</td>\n",
       "    </tr>\n",
       "    <tr>\n",
       "      <td>17731</td>\n",
       "      <td>23</td>\n",
       "      <td>Female</td>\n",
       "      <td>42.0</td>\n",
       "      <td>1.0</td>\n",
       "    </tr>\n",
       "    <tr>\n",
       "      <td>17732</td>\n",
       "      <td>45</td>\n",
       "      <td>Male</td>\n",
       "      <td>40.0</td>\n",
       "      <td>4.0</td>\n",
       "    </tr>\n",
       "    <tr>\n",
       "      <td>17733</td>\n",
       "      <td>65</td>\n",
       "      <td>Female</td>\n",
       "      <td>41.0</td>\n",
       "      <td>4.0</td>\n",
       "    </tr>\n",
       "    <tr>\n",
       "      <td>17734</td>\n",
       "      <td>68</td>\n",
       "      <td>Female</td>\n",
       "      <td>37.0</td>\n",
       "      <td>3.0</td>\n",
       "    </tr>\n",
       "  </tbody>\n",
       "</table>\n",
       "<p>17735 rows × 4 columns</p>\n",
       "</div>"
      ],
      "text/plain": [
       "       Age  Gender  Devices daily usage  Most pop. social media\n",
       "0       47    Male                 30.0                     4.0\n",
       "1       19  Female                 39.0                     1.0\n",
       "2       54  Female                 34.0                     4.0\n",
       "3       59  Female                 41.0                     3.0\n",
       "4       55    Male                 36.0                     3.0\n",
       "...    ...     ...                  ...                     ...\n",
       "17730   30    Male                 38.0                     3.0\n",
       "17731   23  Female                 42.0                     1.0\n",
       "17732   45    Male                 40.0                     4.0\n",
       "17733   65  Female                 41.0                     4.0\n",
       "17734   68  Female                 37.0                     3.0\n",
       "\n",
       "[17735 rows x 4 columns]"
      ]
     },
     "execution_count": 83,
     "metadata": {},
     "output_type": "execute_result"
    }
   ],
   "source": [
    "np.random.seed(12345) # Added seed that numbers stay the same \n",
    "NewData = pd.DataFrame({'Age':age.round(0), 'Gender':np.random.randint(1, 3, 17735), 'Devices daily usage':np.random.normal(40, 3, 17735).round(0),'Most pop. social media':np.random.uniform(1, 4, 17735).round()})\n",
    "NewData['Gender'].replace({1:'Male', 2:'Female'}, inplace=True) # Replaced numbers with strings accordingly\n",
    "NewData # Printed data frame"
   ]
  },
  {
   "cell_type": "code",
   "execution_count": 84,
   "metadata": {},
   "outputs": [
    {
     "data": {
      "text/html": [
       "<div>\n",
       "<style scoped>\n",
       "    .dataframe tbody tr th:only-of-type {\n",
       "        vertical-align: middle;\n",
       "    }\n",
       "\n",
       "    .dataframe tbody tr th {\n",
       "        vertical-align: top;\n",
       "    }\n",
       "\n",
       "    .dataframe thead th {\n",
       "        text-align: right;\n",
       "    }\n",
       "</style>\n",
       "<table border=\"1\" class=\"dataframe\">\n",
       "  <thead>\n",
       "    <tr style=\"text-align: right;\">\n",
       "      <th></th>\n",
       "      <th>Age</th>\n",
       "      <th>Gender</th>\n",
       "      <th>Devices daily usage</th>\n",
       "      <th>Most pop. social media</th>\n",
       "    </tr>\n",
       "  </thead>\n",
       "  <tbody>\n",
       "    <tr>\n",
       "      <td>0</td>\n",
       "      <td>47</td>\n",
       "      <td>Male</td>\n",
       "      <td>30.0</td>\n",
       "      <td>4.0</td>\n",
       "    </tr>\n",
       "    <tr>\n",
       "      <td>1</td>\n",
       "      <td>19</td>\n",
       "      <td>Female</td>\n",
       "      <td>39.0</td>\n",
       "      <td>1.0</td>\n",
       "    </tr>\n",
       "    <tr>\n",
       "      <td>2</td>\n",
       "      <td>54</td>\n",
       "      <td>Female</td>\n",
       "      <td>34.0</td>\n",
       "      <td>4.0</td>\n",
       "    </tr>\n",
       "    <tr>\n",
       "      <td>3</td>\n",
       "      <td>59</td>\n",
       "      <td>Female</td>\n",
       "      <td>41.0</td>\n",
       "      <td>3.0</td>\n",
       "    </tr>\n",
       "    <tr>\n",
       "      <td>4</td>\n",
       "      <td>55</td>\n",
       "      <td>Male</td>\n",
       "      <td>36.0</td>\n",
       "      <td>3.0</td>\n",
       "    </tr>\n",
       "  </tbody>\n",
       "</table>\n",
       "</div>"
      ],
      "text/plain": [
       "   Age  Gender  Devices daily usage  Most pop. social media\n",
       "0   47    Male                 30.0                     4.0\n",
       "1   19  Female                 39.0                     1.0\n",
       "2   54  Female                 34.0                     4.0\n",
       "3   59  Female                 41.0                     3.0\n",
       "4   55    Male                 36.0                     3.0"
      ]
     },
     "execution_count": 84,
     "metadata": {},
     "output_type": "execute_result"
    }
   ],
   "source": [
    "NewData.head()"
   ]
  },
  {
   "cell_type": "code",
   "execution_count": 85,
   "metadata": {},
   "outputs": [
    {
     "data": {
      "text/plain": [
       "(17735, 4)"
      ]
     },
     "execution_count": 85,
     "metadata": {},
     "output_type": "execute_result"
    }
   ],
   "source": [
    "NewData.shape"
   ]
  },
  {
   "cell_type": "code",
   "execution_count": 86,
   "metadata": {},
   "outputs": [
    {
     "data": {
      "text/html": [
       "<div>\n",
       "<style scoped>\n",
       "    .dataframe tbody tr th:only-of-type {\n",
       "        vertical-align: middle;\n",
       "    }\n",
       "\n",
       "    .dataframe tbody tr th {\n",
       "        vertical-align: top;\n",
       "    }\n",
       "\n",
       "    .dataframe thead th {\n",
       "        text-align: right;\n",
       "    }\n",
       "</style>\n",
       "<table border=\"1\" class=\"dataframe\">\n",
       "  <thead>\n",
       "    <tr style=\"text-align: right;\">\n",
       "      <th></th>\n",
       "      <th>Age</th>\n",
       "      <th>Gender</th>\n",
       "      <th>Devices daily usage</th>\n",
       "      <th>Most pop. social media</th>\n",
       "    </tr>\n",
       "  </thead>\n",
       "  <tbody>\n",
       "    <tr>\n",
       "      <td>17730</td>\n",
       "      <td>30</td>\n",
       "      <td>Male</td>\n",
       "      <td>38.0</td>\n",
       "      <td>3.0</td>\n",
       "    </tr>\n",
       "    <tr>\n",
       "      <td>17731</td>\n",
       "      <td>23</td>\n",
       "      <td>Female</td>\n",
       "      <td>42.0</td>\n",
       "      <td>1.0</td>\n",
       "    </tr>\n",
       "    <tr>\n",
       "      <td>17732</td>\n",
       "      <td>45</td>\n",
       "      <td>Male</td>\n",
       "      <td>40.0</td>\n",
       "      <td>4.0</td>\n",
       "    </tr>\n",
       "    <tr>\n",
       "      <td>17733</td>\n",
       "      <td>65</td>\n",
       "      <td>Female</td>\n",
       "      <td>41.0</td>\n",
       "      <td>4.0</td>\n",
       "    </tr>\n",
       "    <tr>\n",
       "      <td>17734</td>\n",
       "      <td>68</td>\n",
       "      <td>Female</td>\n",
       "      <td>37.0</td>\n",
       "      <td>3.0</td>\n",
       "    </tr>\n",
       "  </tbody>\n",
       "</table>\n",
       "</div>"
      ],
      "text/plain": [
       "       Age  Gender  Devices daily usage  Most pop. social media\n",
       "17730   30    Male                 38.0                     3.0\n",
       "17731   23  Female                 42.0                     1.0\n",
       "17732   45    Male                 40.0                     4.0\n",
       "17733   65  Female                 41.0                     4.0\n",
       "17734   68  Female                 37.0                     3.0"
      ]
     },
     "execution_count": 86,
     "metadata": {},
     "output_type": "execute_result"
    }
   ],
   "source": [
    "NewData.tail()"
   ]
  },
  {
   "cell_type": "code",
   "execution_count": 88,
   "metadata": {},
   "outputs": [
    {
     "data": {
      "text/plain": [
       "count    17735.0\n",
       "mean        43.0\n",
       "std         15.0\n",
       "min         18.0\n",
       "25%         31.0\n",
       "50%         43.0\n",
       "75%         56.0\n",
       "max         69.0\n",
       "Name: Age, dtype: float64"
      ]
     },
     "execution_count": 88,
     "metadata": {},
     "output_type": "execute_result"
    }
   ],
   "source": [
    "NewData[\"Age\"].describe().round(0) # Checked for descriptive statistics of age"
   ]
  },
  {
   "cell_type": "markdown",
   "metadata": {},
   "source": [
    "##### More experiments: \n",
    "I will try to investigate same data, just for only 0.1% of Panevezys population from 18-70 age group, because data is very huge and is really hard to see."
   ]
  },
  {
   "cell_type": "code",
   "execution_count": 95,
   "metadata": {},
   "outputs": [
    {
     "data": {
      "text/plain": [
       "array([30, 42, 41, 35, 27, 66, 41, 44, 34, 60, 53, 66, 57, 55, 60, 29, 48,\n",
       "       63, 29, 33, 37, 36, 60, 46, 61, 28, 24, 42, 23, 28, 66, 69, 59, 37,\n",
       "       45, 55, 62, 49, 24, 52, 67, 50, 39, 48, 26, 55, 60, 54, 39, 66, 38,\n",
       "       37, 66, 35, 53, 61, 34, 44, 51, 50, 45, 61, 68, 65, 66, 43, 50, 23,\n",
       "       48, 39, 20, 29, 52, 54, 61, 58, 59, 66, 54, 61, 30, 40, 62, 24, 45,\n",
       "       49, 64, 62, 30, 46, 39, 35, 63, 39, 20, 40, 24, 60, 27, 68, 57, 40,\n",
       "       34, 45, 33, 36, 42, 56, 31, 21, 56, 49, 60, 38, 40, 45, 67, 42, 53,\n",
       "       23, 27, 40, 42, 26, 64, 40, 25, 42, 23, 30, 57, 64, 59, 56, 48, 55,\n",
       "       42, 25, 22, 52, 23, 65, 66, 62, 62, 66, 67, 22, 38, 32, 35, 31, 28,\n",
       "       20, 26, 24, 40, 58, 47, 36, 69, 43, 37, 48, 50, 33, 68, 59, 63, 28,\n",
       "       23, 29, 52, 30, 26, 34, 25])"
      ]
     },
     "execution_count": 95,
     "metadata": {},
     "output_type": "execute_result"
    }
   ],
   "source": [
    "# For egz. i will generate only 0.1% of population- age between 18 and 70 years old.\n",
    "age = np.random.randint(20,70,size=177)\n",
    "age"
   ]
  },
  {
   "cell_type": "code",
   "execution_count": 96,
   "metadata": {},
   "outputs": [
    {
     "data": {
      "image/png": "[encoded data removed]",
      "text/plain": [
       "<Figure size 432x288 with 1 Axes>"
      ]
     },
     "metadata": {
      "needs_background": "light"
     },
     "output_type": "display_data"
    }
   ],
   "source": [
    "plt.hist(age) #Ploted histogram Of sequency of age from 0,1%of population\n",
    "plt.show()"
   ]
  },
  {
   "cell_type": "code",
   "execution_count": 100,
   "metadata": {},
   "outputs": [
    {
     "data": {
      "text/plain": [
       "array([1, 2, 2, 1, 2, 2, 1, 1, 2, 1, 1, 1, 2, 2, 1, 2, 2, 1, 2, 1, 2, 2,\n",
       "       1, 2, 2, 1, 2, 1, 2, 1, 2, 1, 1, 1, 2, 1, 2, 2, 2, 2, 2, 1, 2, 1,\n",
       "       2, 2, 1, 1, 1, 2, 2, 1, 1, 1, 2, 2, 2, 1, 1, 2, 1, 2, 1, 1, 1, 2,\n",
       "       2, 2, 2, 2, 1, 1, 1, 1, 1, 1, 1, 1, 1, 2, 1, 2, 2, 1, 1, 1, 2, 2,\n",
       "       2, 2, 1, 1, 1, 1, 1, 1, 2, 2, 2, 2, 2, 1, 2, 1, 1, 2, 2, 2, 1, 2,\n",
       "       2, 1, 2, 2, 1, 1, 1, 2, 1, 1, 1, 1, 2, 1, 1, 2, 2, 2, 2, 1, 2, 1,\n",
       "       2, 2, 1, 2, 1, 1, 2, 1, 1, 2, 2, 1, 1, 2, 2, 2, 1, 1, 2, 1, 1, 2,\n",
       "       2, 1, 2, 1, 1, 1, 2, 1, 2, 2, 2, 1, 2, 1, 1, 1, 1, 1, 1, 2, 1, 1,\n",
       "       1])"
      ]
     },
     "execution_count": 100,
     "metadata": {},
     "output_type": "execute_result"
    }
   ],
   "source": [
    "# For egz. i will generate only 0.1% of population- by gender\n",
    "gender = np.random.randint(1, 3, size=177)\n",
    "gender"
   ]
  },
  {
   "cell_type": "code",
   "execution_count": 102,
   "metadata": {},
   "outputs": [
    {
     "data": {
      "image/png": "[encoded data removed]",
      "text/plain": [
       "<Figure size 432x288 with 1 Axes>"
      ]
     },
     "metadata": {
      "needs_background": "light"
     },
     "output_type": "display_data"
    }
   ],
   "source": [
    "# Ploted histrogram in0.1% of Panevezys population from age group-18-70\n",
    "plt.hist(gender, bins=10, color='g')\n",
    "plt.ylabel(\"Social media users\") # Labeled y axis\n",
    "plt.xlabel(\"Gender - Male or Female\") # Labeled x axis\n",
    "plt.title('By gender usage of social media in Panevezys') # Added title\n",
    "plt.show() # Showed plot"
   ]
  },
  {
   "cell_type": "code",
   "execution_count": 64,
   "metadata": {},
   "outputs": [
    {
     "data": {
      "text/plain": [
       "['female',\n",
       " 'female',\n",
       " 'male',\n",
       " 'male',\n",
       " 'male',\n",
       " 'female',\n",
       " 'female',\n",
       " 'male',\n",
       " 'male',\n",
       " 'male',\n",
       " 'male',\n",
       " 'male',\n",
       " 'male',\n",
       " 'male',\n",
       " 'male',\n",
       " 'male',\n",
       " 'female',\n",
       " 'female',\n",
       " 'male',\n",
       " 'male',\n",
       " 'female',\n",
       " 'male',\n",
       " 'female',\n",
       " 'female',\n",
       " 'female',\n",
       " 'male',\n",
       " 'female',\n",
       " 'female',\n",
       " 'male',\n",
       " 'male',\n",
       " 'female',\n",
       " 'male',\n",
       " 'male',\n",
       " 'male',\n",
       " 'male',\n",
       " 'female',\n",
       " 'male',\n",
       " 'male',\n",
       " 'female',\n",
       " 'female',\n",
       " 'female',\n",
       " 'male',\n",
       " 'male',\n",
       " 'female',\n",
       " 'male',\n",
       " 'female',\n",
       " 'female',\n",
       " 'male',\n",
       " 'female',\n",
       " 'female',\n",
       " 'female',\n",
       " 'male',\n",
       " 'female',\n",
       " 'female',\n",
       " 'female',\n",
       " 'female',\n",
       " 'male',\n",
       " 'male',\n",
       " 'female',\n",
       " 'male',\n",
       " 'male',\n",
       " 'female',\n",
       " 'male',\n",
       " 'female',\n",
       " 'male',\n",
       " 'female',\n",
       " 'female',\n",
       " 'male',\n",
       " 'female',\n",
       " 'female',\n",
       " 'male',\n",
       " 'male',\n",
       " 'female',\n",
       " 'male',\n",
       " 'male',\n",
       " 'male',\n",
       " 'female',\n",
       " 'female',\n",
       " 'male',\n",
       " 'female',\n",
       " 'female',\n",
       " 'male',\n",
       " 'female',\n",
       " 'male',\n",
       " 'female',\n",
       " 'female',\n",
       " 'male',\n",
       " 'female',\n",
       " 'female',\n",
       " 'male',\n",
       " 'female',\n",
       " 'male',\n",
       " 'female',\n",
       " 'male',\n",
       " 'female',\n",
       " 'male',\n",
       " 'male',\n",
       " 'male',\n",
       " 'female',\n",
       " 'male',\n",
       " 'female',\n",
       " 'female',\n",
       " 'female',\n",
       " 'female',\n",
       " 'female',\n",
       " 'male',\n",
       " 'female',\n",
       " 'male',\n",
       " 'female',\n",
       " 'female',\n",
       " 'male',\n",
       " 'male',\n",
       " 'male',\n",
       " 'female',\n",
       " 'female',\n",
       " 'male',\n",
       " 'male',\n",
       " 'male',\n",
       " 'female',\n",
       " 'female',\n",
       " 'female',\n",
       " 'male',\n",
       " 'male',\n",
       " 'female',\n",
       " 'male',\n",
       " 'female',\n",
       " 'male',\n",
       " 'male',\n",
       " 'male',\n",
       " 'female',\n",
       " 'female',\n",
       " 'female',\n",
       " 'female',\n",
       " 'female',\n",
       " 'male',\n",
       " 'male',\n",
       " 'male',\n",
       " 'male',\n",
       " 'male',\n",
       " 'male',\n",
       " 'male',\n",
       " 'male',\n",
       " 'male',\n",
       " 'female',\n",
       " 'male',\n",
       " 'female',\n",
       " 'female',\n",
       " 'male',\n",
       " 'male',\n",
       " 'male',\n",
       " 'female',\n",
       " 'female',\n",
       " 'female',\n",
       " 'female',\n",
       " 'male',\n",
       " 'male',\n",
       " 'male',\n",
       " 'male',\n",
       " 'male',\n",
       " 'male',\n",
       " 'female',\n",
       " 'female',\n",
       " 'female',\n",
       " 'female',\n",
       " 'female',\n",
       " 'male',\n",
       " 'female',\n",
       " 'male',\n",
       " 'male',\n",
       " 'female',\n",
       " 'female',\n",
       " 'female',\n",
       " 'male',\n",
       " 'female',\n",
       " 'female',\n",
       " 'male',\n",
       " 'female']"
      ]
     },
     "execution_count": 64,
     "metadata": {},
     "output_type": "execute_result"
    }
   ],
   "source": [
    "# For egz. I will generate only 0.1% of population- by gender, but instead of the numbers I will write names\n",
    "genders = ['male','female'] # Added two names\n",
    "genders =  [np.random.choice(genders) for i in range(177)] # Generated choice function between male and female\n",
    "genders"
   ]
  },
  {
   "cell_type": "code",
   "execution_count": 105,
   "metadata": {},
   "outputs": [
    {
     "data": {
      "text/plain": [
       "array([3, 2, 2, 2, 1, 2, 3, 3, 2, 3, 2, 2, 3, 2, 4, 3, 2, 4, 4, 3, 1, 3,\n",
       "       2, 4, 2, 3, 2, 3, 3, 4, 4, 4, 4, 2, 1, 4, 4, 2, 2, 4, 4, 1, 1, 4,\n",
       "       4, 1, 1, 2, 4, 4, 4, 3, 4, 2, 4, 2, 3, 2, 4, 1, 2, 3, 1, 2, 4, 4,\n",
       "       1, 3, 4, 1, 4, 3, 1, 1, 4, 2, 3, 1, 3, 1, 1, 3, 2, 3, 3, 3, 2, 3,\n",
       "       3, 4, 2, 4, 2, 4, 4, 1, 3, 1, 2, 3, 3, 4, 3, 4, 1, 4, 1, 3, 3, 2,\n",
       "       4, 1, 1, 2, 1, 4, 3, 3, 2, 2, 1, 2, 4, 1, 3, 2, 3, 1, 4, 2, 2, 2,\n",
       "       3, 1, 1, 4, 3, 2, 1, 3, 2, 2, 1, 2, 3, 2, 3, 2, 4, 2, 1, 2, 1, 1,\n",
       "       3, 4, 4, 3, 1, 1, 3, 1, 3, 2, 4, 4, 3, 1, 4, 1, 4, 3, 4, 3, 1, 2,\n",
       "       2])"
      ]
     },
     "execution_count": 105,
     "metadata": {},
     "output_type": "execute_result"
    }
   ],
   "source": [
    "np.random.seed(12345) #Seeded- seed is used that the numbers stay the same \n",
    "# To see more visuable simulated data I will use show again only 0.1% of population- by using 4 the most popular social media accounts\n",
    "accounts = np.random.randint(1, 5, size=177) #Simulated just 0.1% of popul.4 social media accounts\n",
    "accounts"
   ]
  },
  {
   "cell_type": "code",
   "execution_count": 106,
   "metadata": {},
   "outputs": [
    {
     "data": {
      "image/png": "[encoded data removed]",
      "text/plain": [
       "<Figure size 432x288 with 1 Axes>"
      ]
     },
     "metadata": {
      "needs_background": "light"
     },
     "output_type": "display_data"
    }
   ],
   "source": [
    "plt.hist(accounts, bins=7, color='y', edgecolor='b') \n",
    "plt.ylabel('Users') # Labeled y axis\n",
    "plt.xlabel('Social media') # Labeled x axis \n",
    "plt.title('What social media people use most') # Added title\n",
    "plt.show() # Showed plot"
   ]
  },
  {
   "cell_type": "code",
   "execution_count": 107,
   "metadata": {},
   "outputs": [
    {
     "data": {
      "text/plain": [
       "array([39., 41., 38., 38., 46., 44., 40., 41., 42., 44., 43., 36., 41.,\n",
       "       41., 44., 43., 34., 39., 45., 39., 38., 41., 50., 37., 38., 40.,\n",
       "       41., 42., 40., 44., 38., 38., 33., 34., 37., 42., 36., 40., 37.,\n",
       "       41., 33., 39., 35., 37., 36., 41., 41., 38., 41., 44., 40., 41.,\n",
       "       40., 43., 44., 37., 35., 40., 42., 38., 43., 40., 40., 42., 43.,\n",
       "       37., 40., 33., 38., 36., 36., 43., 42., 42., 43., 38., 38., 37.,\n",
       "       38., 41., 40., 37., 42., 41., 43., 45., 37., 43., 40., 43., 41.,\n",
       "       47., 40., 46., 40., 42., 40., 38., 42., 40., 35., 38., 40., 37.,\n",
       "       39., 40., 43., 43., 38., 45., 38., 41., 43., 35., 37., 39., 41.,\n",
       "       39., 42., 35., 33., 36., 41., 42., 39., 40., 40., 38., 39., 40.,\n",
       "       36., 35., 45., 43., 41., 42., 44., 39., 39., 41., 38., 44., 42.,\n",
       "       38., 41., 39., 39., 40., 42., 42., 38., 42., 39., 35., 41., 35.,\n",
       "       39., 43., 44., 39., 39., 40., 34., 46., 38., 44., 40., 44., 46.,\n",
       "       42., 47., 38., 42., 37., 36., 39., 37.])"
      ]
     },
     "execution_count": 107,
     "metadata": {},
     "output_type": "execute_result"
    }
   ],
   "source": [
    "np.random.seed(12345) \n",
    "\n",
    "usage = np.random.normal(40,3,177). round(0) # Generated values\n",
    "usage"
   ]
  },
  {
   "cell_type": "code",
   "execution_count": 108,
   "metadata": {},
   "outputs": [
    {
     "data": {
      "text/plain": [
       "33.0"
      ]
     },
     "execution_count": 108,
     "metadata": {},
     "output_type": "execute_result"
    }
   ],
   "source": [
    "min(usage)"
   ]
  },
  {
   "cell_type": "code",
   "execution_count": 109,
   "metadata": {},
   "outputs": [
    {
     "data": {
      "text/plain": [
       "50.0"
      ]
     },
     "execution_count": 109,
     "metadata": {},
     "output_type": "execute_result"
    }
   ],
   "source": [
    "max(usage)"
   ]
  },
  {
   "cell_type": "code",
   "execution_count": 110,
   "metadata": {},
   "outputs": [
    {
     "data": {
      "image/png": "[encoded data removed]",
      "text/plain": [
       "<Figure size 432x288 with 1 Axes>"
      ]
     },
     "metadata": {
      "needs_background": "light"
     },
     "output_type": "display_data"
    }
   ],
   "source": [
    "plt.hist(usage,bins=40, color='r', edgecolor='g') # Added sample count, for population of 0.1% \n",
    "plt.ylabel('Social media users') # Labeled y axis\n",
    "plt.xlabel('Times per day') # Labeled x axis \n",
    "plt.title ('Daily social media usage') # Added title\n",
    "plt.show() # Showed Plot"
   ]
  },
  {
   "cell_type": "markdown",
   "metadata": {},
   "source": [
    "We can see from this ecsperiment, that if I took very small proportion of data, is very similar as for big data. "
   ]
  },
  {
   "cell_type": "markdown",
   "metadata": {},
   "source": [
    "## References\n",
    "https://jp.lt \n",
    "\n",
    "www.youtube.com\n",
    "\n",
    "https://docs.scipy.org\n",
    "\n",
    "https://stackoverflow.com \n",
    "\n",
    "https://het.as.utexas.edu \n",
    "\n",
    "https://www.stat.gov.lt \n",
    "\n",
    "https://www.lrvalstybe.lt\n",
    "\n",
    "https://books.google.ie \n",
    "\n",
    "https://pftb.ktu.edu\n",
    "\n",
    "https://ourworldindata.org/rise-of-social-media\n",
    "\n",
    "https://www.facebook.com\n",
    "\n",
    "https://www.impactbnd.com"
   ]
  }
 ],
 "metadata": {
  "kernelspec": {
   "display_name": "Python 3",
   "language": "python",
   "name": "python3"
  },
  "language_info": {
   "codemirror_mode": {
    "name": "ipython",
    "version": 3
   },
   "file_extension": ".py",
   "mimetype": "text/x-python",
   "name": "python",
   "nbconvert_exporter": "python",
   "pygments_lexer": "ipython3",
   "version": "3.7.4"
  }
 },
 "nbformat": 4,
 "nbformat_minor": 2
}
