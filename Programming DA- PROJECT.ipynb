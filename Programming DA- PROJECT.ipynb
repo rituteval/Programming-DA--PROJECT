{
 "cells": [
  {
   "cell_type": "markdown",
   "metadata": {},
   "source": [
    "# Project for Programming Data Analysis\n"
   ]
  },
  {
   "cell_type": "markdown",
   "metadata": {},
   "source": [
    "By student- Rita Valciukiene"
   ]
  },
  {
   "cell_type": "code",
   "execution_count": null,
   "metadata": {},
   "outputs": [],
   "source": []
  },
  {
   "cell_type": "markdown",
   "metadata": {},
   "source": [
    "### Content: \n",
    "- To collect dataset about real world phenomenon across at least  one hundred data points and at least 4 variables.\n",
    "- Investigate the types of variables involved- distributions and relationships between them.\n",
    "- Simulate a dataset as closely matching their properties as possible.\n",
    "- Implement the simuliation using the Jupyter Notebook. And detail research.\n",
    "    Detail research and implement the simulation in a Jupyter notebook.\n",
    "\n"
   ]
  },
  {
   "cell_type": "markdown",
   "metadata": {},
   "source": [
    "Work plan\n",
    "\n",
    "First of all I have to find out World real phenomenon dataset and understand the sense of the dataset.\n",
    "\n",
    "The aim here is to get a general idea of the pre-dominant characteristics of the real world phenomenon dataset. For example, if i do economic forecast- what was previous forecasts, what is predicted for coming year? What is the most common problem? and so on.\n",
    "\n",
    "These questions can be answered through the effective utilization of data visualization and data summarization techniques such as bar plots and contingency tables on categorical variables such as. The relevant categorical variables that serve as good potential predictors and it will contain a percentage bar plot and a contingency table as a means of summarizing counts and counts as percentages."
   ]
  },
  {
   "cell_type": "markdown",
   "metadata": {},
   "source": [
    "Defining Simulation\n",
    "A simulation is the imitation of the operation of a real world - process or system over time. Simulation involves generation of artificial history of a system and drawing inferences from it.\n",
    "The behavior of a system as it evolves over time is studied by developing a simulation model. This model takes the form of a set of assumptions concerning the operation of a system. The model takes a set of expressed assumptions:\n",
    "- Mathematical, logical\n",
    "- Symbolic relationship between the entities.\n",
    "\n",
    "Sometimes simulation can be useful tool, and sometimes can be not useful tool. So what it is useful when, we have a complex system and we have a simulation it helps us understand internal interactions that go behind or the relationships that are there between the entities and you can understand better how these entities interact with each other rather than just having the complex system being deployed and then understanding it which simulation engines you can have a model that works just like the complex system and then you can understand the interactions that happen within secondly now any changes that you want in your system that can it  can be stimulated and the effect of those changes in both demolitions can be observed and noted down and then decided whether I just made this change permanent or that is it changes yourcompass and affecting the other\n",
    " confidences with so basically these changes could include information\n",
    "changes organizational changes for environmental team so you have a model\n",
    "or you have a model of the system and then you are going to make some link and see the effect that is column if it is to defect what if you did not have a simulation if you join the entire thing so that is when the simulation comes into hand where you can observe these small changes and see the effect that it caused then the next thing is we can always improve the system by observing the simulation in hand so the knowledge gained in designing simulation model can be very useful as we can always keep on improving the system by better understanding it at each step next thing since we know how the internal components interact with each other we can estimate or edit which of the continent is the most important or which component is so crucial that without it the entire system cannot run\n",
    "or the component the switches are single for the entire system is going to break so then it gives us valuable insight into which variables are important and how actually these we will interact the teacher then the next one is simulation can be used as a device to reimpose analytical solution methodology so basically you can have simulations that work with analytical solution and methodologies to help us better understand to give it a better and listen or pee through inside the model that we have then simulation is very useful then you want to experiment with new design when\n",
    "we have some crazy idea you can just have a simulation and see how it goes\n",
    "through or how it so how it turns out to be then you have something like this it's very uses anyone an experiment with new designs of quality prior to your big implementing implementation that you have at hand continuing again simulations can use to verify analytical solution so you have you have a solution and hence you need to verify you want to see whether this the solution the analytic solution that you have is correct or not you just like to verify it the most important thing obviously it allows us to learn about the system without the cost and destruction of the on jobs earning them actually spending the money in doing the entire implementation we have a simulation that can save is the cost of actually doing the entire process then another important thing is it helps us visualize it helps us visualize how how\n",
    "the system is going to enter that house it still is going to generate an output what are the effects that it has so "
   ]
  },
  {
   "cell_type": "markdown",
   "metadata": {},
   "source": [
    "### Overview: What is Synthetic data?\n",
    "\n",
    "Synthetic data is information that's artificially manufactured rather than generated by real-world events. Synthetic data is created algorithmically, and it is used as a stand-in for test datasets of production or operational data, to validate mathematical models and, increasingly, to train machine learning models.\n",
    "Simulation, allows us to build a mathematical model of the world and run it several times on a computer. This allows us to evaluate various decisions and choose between them. That is, make decisions. This was an attempt to describe Simulation in simpler words. Let’s deep dive into the mathematics and code. R is certainly my go-to language when it comes to statistics and probabilities, thereof I have written all the codes in R to simulate different processes here."
   ]
  },
  {
   "cell_type": "markdown",
   "metadata": {},
   "source": [
    "Generating dataset for classification and data clustering\n"
   ]
  },
  {
   "cell_type": "markdown",
   "metadata": {},
   "source": [
    "\n",
    "#### Real Life Phenomenon\n",
    "\n",
    "I want to analyse unemployment in Ireland based on population's age, gender and education and sick people,who can not work.\n",
    "\n"
   ]
  },
  {
   "cell_type": "code",
   "execution_count": 1,
   "metadata": {},
   "outputs": [],
   "source": [
    "import pandas as pd\n",
    "import numpy as np\n",
    "import matplotlib.pyplot as plt"
   ]
  },
  {
   "cell_type": "code",
   "execution_count": 5,
   "metadata": {},
   "outputs": [
    {
     "data": {
      "text/plain": [
       "array([55., 31., 27., ..., 28., 47., 28.])"
      ]
     },
     "execution_count": 5,
     "metadata": {},
     "output_type": "execute_result"
    }
   ],
   "source": [
    "np.random.seed(12345) #Seeded- so the numbers stay the sametime\n",
    "\n",
    "age = np.random.triangular(16, 30, 67, 3300000).round(0) # Generated values\n",
    "age"
   ]
  }
 ],
 "metadata": {
  "kernelspec": {
   "display_name": "Python 3",
   "language": "python",
   "name": "python3"
  },
  "language_info": {
   "codemirror_mode": {
    "name": "ipython",
    "version": 3
   },
   "file_extension": ".py",
   "mimetype": "text/x-python",
   "name": "python",
   "nbconvert_exporter": "python",
   "pygments_lexer": "ipython3",
   "version": "3.7.4"
  }
 },
 "nbformat": 4,
 "nbformat_minor": 2
}
