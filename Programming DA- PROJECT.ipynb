{
 "cells": [
  {
   "cell_type": "markdown",
   "metadata": {},
   "source": [
    "# Project for Programming Data Analysis\n"
   ]
  },
  {
   "cell_type": "markdown",
   "metadata": {},
   "source": [
    "By student- Rita Valciukiene"
   ]
  },
  {
   "cell_type": "code",
   "execution_count": null,
   "metadata": {},
   "outputs": [],
   "source": []
  },
  {
   "cell_type": "markdown",
   "metadata": {},
   "source": [
    "### Content: \n",
    "- To collect dataset about real world phenomenon across at least  one hundred data points and at least 4 variables.\n",
    "- Investigate the types of variables involved- distributions and relationships between them.\n",
    "- Simulate a dataset as closely matching their properties as possible.\n",
    "- Implement the simuliation using the Jupyter Notebook. And detail research.\n",
    "    Detail research and implement the simulation in a Jupyter notebook.\n",
    "\n"
   ]
  },
  {
   "cell_type": "markdown",
   "metadata": {},
   "source": [
    "Work plan\n",
    "\n",
    "First of all I have to find out World real phenomenon dataset and understand the sense of the dataset.\n",
    "\n",
    "The aim here is to get a general idea of the pre-dominant characteristics of the real world phenomenon dataset. For example, if i do economic forecast- what was previous forecasts, what is predicted for coming year? What is the most common problem? and so on; or if I choose is popular to use social media in Lithuania, in which cities, is it popular to buy things using social media, how it is impact people?\n",
    "\n",
    "\n",
    "These questions can be answered through the effective utilization of data visualization and data summarization techniques such as bar plots and contingency tables on categorical variables such as. The relevant categorical variables that serve as good potential predictors and it will contain a percentage bar plot and a contingency table as a means of summarizing counts and counts as percentages. And of cour se to simulate data."
   ]
  },
  {
   "cell_type": "markdown",
   "metadata": {},
   "source": [
    "Defining Simulation\n",
    "\n",
    "A simulation is the imitation of the operation of a real world - process or system over time. Simulation involves generation of artificial history of a system and drawing inferences from it.\n",
    "The behavior of a system as it evolves over time is studied by developing a simulation model. This model takes the form of a set of assumptions concerning the operation of a system. The model takes a set of expressed assumptions:\n",
    "- Mathematical, logical\n",
    "- Symbolic relationship between the entities.\n",
    "\n",
    "Sometimes simulation can be useful tool, and sometimes can be not useful tool. So what it is useful when, we have a complex system and we have a simulation it helps us understand internal interactions, that go behind or the relationships, that are there between the entities and you can understand better how these entities interact with each other rather than just having the complex system being deployed and then understanding it. \n",
    "- When Simulation is the appropriate tool?\n",
    "Simulation enables to study of and experimentation with the internal interactions of a complex system, or of a subsystem within a omplex system.\n",
    "Informational, organizational and environmental changes can be simulated and the effect of those alternations on the model\"s can be observed.\n",
    "The knowledge gained in designing a simulatiom model can be of\n",
    "of great value toward suggesting improvement in the system under investigation.\n",
    "By changing simulation inputs and observing the resulting outputs, valuable insight may be obtained into which variables are most important and how variables interact.\n",
    "Simulation can be used as a device to reinforce analytic solution methodologies.\n",
    "Simulation can be used to experiment with new designs or policies prior to implementaton so as to prepare for what may happen.\n",
    "\n",
    "- State of the System: The state of a system is defined as the collection of variables necessary to describe a system at any time,relative to the objective of study. In other words, state of the system mean a description of all the entities, attributes and activities as they exist at one point in time.\n",
    "#### Model of a system\n",
    "Mathematical model- uses symbolic notation and the mathematical equations to represent a system. \n",
    "Static model- represents a system at a particular point of time and also known as Monte Carlo simulation.\n",
    "Dynamic model- represents systems as they change over time.\n",
    "Deterministic model- vontains no random variables. They have a known set of inputs which will results in a unique set of outputs.\n",
    "Stochastic model- has one or more random variable as inputs. Random inputs leads to random outputs for eg. :Simulation of a bank involves random interrival and service times.\n",
    "Discrete-Event System Simulation- modeling odf systems in which the state variable changes only at a discrete set of points in a time. The simulation models are analyzed by numerical rather than by analytical methods.\n"
   ]
  },
  {
   "cell_type": "markdown",
   "metadata": {},
   "source": [
    "### Overview: What is Synthetic data?\n",
    "\n",
    "Synthetic data is information that's artificially manufactured rather than generated by real-world events. Synthetic data is created algorithmically, and it is used as a stand-in for test datasets of production or operational data, to validate mathematical models and, increasingly, to train machine learning models.\n",
    "Simulation, allows us to build a mathematical model of the world and run it several times on a computer. This allows us to evaluate various decisions and choose between them. That is, make decisions. This was an attempt to describe Simulation in simpler words. Let’s deep dive into the mathematics and code. Python is very good language for statistics and probabilities,."
   ]
  },
  {
   "cell_type": "markdown",
   "metadata": {},
   "source": [
    " Experiments with real world systems are high-risk, accompanied by high costs or not even possible at all. That’s when simulations come into play.  "
   ]
  },
  {
   "cell_type": "markdown",
   "metadata": {},
   "source": [
    "\n",
    "#### Real Life Phenomenon\n",
    "\n",
    "I want to analyse what factors affect social media usages to buy things through internet based  in Lithuanias small town based on population's age, gender and mobile usage and how it may impact their buying behaviour online.\n",
    "\n"
   ]
  },
  {
   "cell_type": "markdown",
   "metadata": {},
   "source": [
    "#### How to simulate data variables in real world pheonomenon?"
   ]
  },
  {
   "cell_type": "markdown",
   "metadata": {},
   "source": [
    "#### Abstract- what  affect people to use social media, how it is impact them to buy online.\n",
    "\n",
    "I will investigate 4 variables across a dataset of 2.794 million population in Lithuania, and I will be discussing my home town Panevezys people usage internet from 88678 population. The data is very big, so I will count yust 20 % of this population.   female-49843;  male- 38835 from age 18- 65 \n",
    "Variables:\n",
    "    Age: 18-65 (They more likely will use facebook account, twitter, instagram)(17735 population of 20%)\n",
    "   \n",
    "   Gender: Female or Male \n",
    "    \n",
    "   What social media using\n",
    "    \n",
    "   The impact of buying goods online\n",
    "   \n",
    "    \n",
    "    \n"
   ]
  },
  {
   "cell_type": "markdown",
   "metadata": {},
   "source": [
    "Social media is  one of the most influential tool for Lithuanian consumers when finding inspiration for purchases.\n",
    "\n",
    "Mostly is infuenced for younger age. Lithuanian consumers cited social media (25%) as the most influential channel along with individual retailer websites. Social media ranked higher than other online media channels, such as blogs and digital press and magazines. With 80 % of 18-24 year olds using social media will by some product online. This is a key demographic group in terms of encouraging social media engagement."
   ]
  },
  {
   "cell_type": "code",
   "execution_count": 7,
   "metadata": {},
   "outputs": [],
   "source": [
    "import pandas as pd\n",
    "import numpy as np\n",
    "import matplotlib.pyplot as plt\n",
    "import seaborn as sn\n",
    "import scipy as sp\n",
    "%matplotlib inline"
   ]
  },
  {
   "cell_type": "code",
   "execution_count": null,
   "metadata": {},
   "outputs": [],
   "source": []
  },
  {
   "cell_type": "markdown",
   "metadata": {},
   "source": [
    "Pandas is a software library for data maniupulation & analysis.\n",
    "Numpy is a python library useful for large, multi-dimensional arrays & matrices, along with functions to operate on arrays. \n",
    "\n"
   ]
  },
  {
   "cell_type": "code",
   "execution_count": 4,
   "metadata": {},
   "outputs": [
    {
     "data": {
      "text/plain": [
       "<function matplotlib.pyplot.show(*args, **kw)>"
      ]
     },
     "execution_count": 4,
     "metadata": {},
     "output_type": "execute_result"
    },
    {
     "data": {
      "image/png": "[encoded data removed]",
      "text/plain": [
       "<Figure size 432x288 with 1 Axes>"
      ]
     },
     "metadata": {
      "needs_background": "light"
     },
     "output_type": "display_data"
    }
   ],
   "source": [
    "\n",
    "x = np.random.randn(100)\n",
    "x\n",
    "import matplotlib.pyplot as plt    # Imported matplotlib.pyplot\n",
    "\n",
    "plt.hist(x)  # Created Histogram\n",
    "plt.show     # Asked show histogram in output\n",
    "\n",
    "\n"
   ]
  },
  {
   "cell_type": "code",
   "execution_count": 9,
   "metadata": {},
   "outputs": [
    {
     "data": {
      "text/plain": [
       "54.23981750546062"
      ]
     },
     "execution_count": 9,
     "metadata": {},
     "output_type": "execute_result"
    }
   ],
   "source": [
    "np.random.seed(12345) #Seeded- seed is used that the numbers stay the same \n",
    "age = np.random.triangular(18, 30, 65, ) # Generated values\n",
    "age"
   ]
  },
  {
   "cell_type": "code",
   "execution_count": 10,
   "metadata": {},
   "outputs": [
    {
     "data": {
      "text/plain": [
       "array([47, 19, 54, ..., 58, 58, 54])"
      ]
     },
     "execution_count": 10,
     "metadata": {},
     "output_type": "execute_result"
    }
   ],
   "source": [
    "age = np.random.randint(18 ,65, 17735) \n",
    "age"
   ]
  },
  {
   "cell_type": "code",
   "execution_count": 12,
   "metadata": {},
   "outputs": [
    {
     "data": {
      "text/plain": [
       "41.02323089935157"
      ]
     },
     "execution_count": 12,
     "metadata": {},
     "output_type": "execute_result"
    }
   ],
   "source": [
    "np.mean(age)"
   ]
  },
  {
   "cell_type": "code",
   "execution_count": 4,
   "metadata": {},
   "outputs": [
    {
     "name": "stderr",
     "output_type": "stream",
     "text": [
      "C:\\ProgramData\\Anaconda3\\lib\\site-packages\\ipykernel_launcher.py:3: MatplotlibDeprecationWarning: \n",
      "The 'normed' kwarg was deprecated in Matplotlib 2.1 and will be removed in 3.1. Use 'density' instead.\n",
      "  This is separate from the ipykernel package so we can avoid doing imports until\n"
     ]
    },
    {
     "data": {
      "image/png": "[encoded data removed]",
      "text/plain": [
       "<Figure size 432x288 with 1 Axes>"
      ]
     },
     "metadata": {
      "needs_background": "light"
     },
     "output_type": "display_data"
    }
   ],
   "source": [
    "# Create plot\n",
    "plt.hist(np.random.triangular(16, 34, 65, 279400), bins=30,\n",
    "             normed=True, edgecolor='r')\n",
    "plt.ylabel('Frequency') # Labeled y axis\n",
    "plt.xlabel('Age') # Labeled x axis\n",
    "plt.title('Could be population in labour force if 100% available ') # Added title\n",
    "plt.show() # Showed Plot"
   ]
  },
  {
   "cell_type": "markdown",
   "metadata": {},
   "source": [
    "\n",
    " ####  Gender Distribution-  second variable\n",
    "\n",
    "Gender is also a huge factor to consider when analysing social media usage behaviour and of course how it influenced to buy goods. Man and woman using social media differently I suppose.\n"
   ]
  },
  {
   "cell_type": "code",
   "execution_count": 5,
   "metadata": {},
   "outputs": [
    {
     "data": {
      "text/plain": [
       "array([1, 2, 2, ..., 1, 2, 2])"
      ]
     },
     "execution_count": 5,
     "metadata": {},
     "output_type": "execute_result"
    }
   ],
   "source": [
    "np.random.seed(12345) #Seeded for that numbers stay the same every time\n",
    "#Marked gender as - Male = 1 , Female = 2\n",
    "gender = np.random.randint(1, 3, 17735) \n",
    "gender"
   ]
  },
  {
   "cell_type": "code",
   "execution_count": 6,
   "metadata": {},
   "outputs": [
    {
     "data": {
      "image/png": "[encoded data removed]",
      "text/plain": [
       "<Figure size 432x288 with 1 Axes>"
      ]
     },
     "metadata": {
      "needs_background": "light"
     },
     "output_type": "display_data"
    }
   ],
   "source": [
    "              # Ploted histrogram\n",
    "plt.hist(gender, bins=10, color='r')\n",
    "plt.ylabel(\"Social media users\") # Labeled y axis\n",
    "plt.xlabel(\"Gender - Male or Female\") # Labeled x axis\n",
    "plt.show() # Showed plot"
   ]
  },
  {
   "cell_type": "markdown",
   "metadata": {},
   "source": [
    "males and females using nearly same."
   ]
  },
  {
   "cell_type": "markdown",
   "metadata": {},
   "source": [
    "#### 3 variable is social media using the most\n",
    "From my research in my home town- the most popular are: facebook, twitter, instagram, whats up."
   ]
  },
  {
   "cell_type": "code",
   "execution_count": 11,
   "metadata": {},
   "outputs": [
    {
     "data": {
      "text/plain": [
       "array([4., 2., 2., ..., 3., 2., 3.])"
      ]
     },
     "execution_count": 11,
     "metadata": {},
     "output_type": "execute_result"
    }
   ],
   "source": [
    "np.random.seed(12345) # Seeded that numbers stay the same\n",
    "\n",
    "social = np.random.uniform(1, 4, 17735).round(0) # Generated values\n",
    "social"
   ]
  },
  {
   "cell_type": "markdown",
   "metadata": {},
   "source": [
    "#### 4. Variable - how often they use phones, tablets for social media\n",
    "\n",
    " I want to estimate the distribution of a people checking their phone every day or not every day and how many times a day. Statistics taken from above show that on average a person checks their phone 40 times a day. So it is likely how more often you check phone and the adds appears on phone more influence people to buy goods. "
   ]
  },
  {
   "cell_type": "code",
   "execution_count": 13,
   "metadata": {},
   "outputs": [
    {
     "data": {
      "text/plain": [
       "array([39., 41., 38., ..., 44., 37., 39.])"
      ]
     },
     "execution_count": 13,
     "metadata": {},
     "output_type": "execute_result"
    }
   ],
   "source": [
    "np.random.seed(12345) \n",
    "\n",
    "usage = np.random.normal(40,3,17735). round(0) # Generated values\n",
    "usage"
   ]
  },
  {
   "cell_type": "code",
   "execution_count": 14,
   "metadata": {},
   "outputs": [
    {
     "data": {
      "text/plain": [
       "29.0"
      ]
     },
     "execution_count": 14,
     "metadata": {},
     "output_type": "execute_result"
    }
   ],
   "source": [
    "min(usage)"
   ]
  },
  {
   "cell_type": "code",
   "execution_count": 15,
   "metadata": {},
   "outputs": [
    {
     "data": {
      "text/plain": [
       "52.0"
      ]
     },
     "execution_count": 15,
     "metadata": {},
     "output_type": "execute_result"
    }
   ],
   "source": [
    "max(usage)"
   ]
  },
  {
   "cell_type": "code",
   "execution_count": 16,
   "metadata": {},
   "outputs": [
    {
     "data": {
      "image/png": "[encoded data removed]",
      "text/plain": [
       "<Figure size 432x288 with 1 Axes>"
      ]
     },
     "metadata": {
      "needs_background": "light"
     },
     "output_type": "display_data"
    }
   ],
   "source": [
    "plt.hist(usage,bins=52, edgecolor='y') # Added sample count, amount of bins\n",
    "plt.ylabel('Social Media Users') # Labeled y axis\n",
    "plt.xlabel('Times per day') # Labeled x axis \n",
    "plt.title ('Daily Social Media apps usage') # Added title\n",
    "plt.show() # Showed Plot"
   ]
  },
  {
   "cell_type": "code",
   "execution_count": 17,
   "metadata": {},
   "outputs": [
    {
     "data": {
      "text/html": [
       "<div>\n",
       "<style scoped>\n",
       "    .dataframe tbody tr th:only-of-type {\n",
       "        vertical-align: middle;\n",
       "    }\n",
       "\n",
       "    .dataframe tbody tr th {\n",
       "        vertical-align: top;\n",
       "    }\n",
       "\n",
       "    .dataframe thead th {\n",
       "        text-align: right;\n",
       "    }\n",
       "</style>\n",
       "<table border=\"1\" class=\"dataframe\">\n",
       "  <thead>\n",
       "    <tr style=\"text-align: right;\">\n",
       "      <th></th>\n",
       "      <th>Age</th>\n",
       "      <th>Gender</th>\n",
       "      <th>Phone Daily Usage</th>\n",
       "      <th>Social Media Apps</th>\n",
       "    </tr>\n",
       "  </thead>\n",
       "  <tbody>\n",
       "    <tr>\n",
       "      <td>0</td>\n",
       "      <td>47</td>\n",
       "      <td>Male</td>\n",
       "      <td>55.0</td>\n",
       "      <td>4.0</td>\n",
       "    </tr>\n",
       "    <tr>\n",
       "      <td>1</td>\n",
       "      <td>19</td>\n",
       "      <td>Female</td>\n",
       "      <td>64.0</td>\n",
       "      <td>1.0</td>\n",
       "    </tr>\n",
       "    <tr>\n",
       "      <td>2</td>\n",
       "      <td>54</td>\n",
       "      <td>Female</td>\n",
       "      <td>59.0</td>\n",
       "      <td>4.0</td>\n",
       "    </tr>\n",
       "    <tr>\n",
       "      <td>3</td>\n",
       "      <td>59</td>\n",
       "      <td>Female</td>\n",
       "      <td>66.0</td>\n",
       "      <td>4.0</td>\n",
       "    </tr>\n",
       "    <tr>\n",
       "      <td>4</td>\n",
       "      <td>55</td>\n",
       "      <td>Male</td>\n",
       "      <td>61.0</td>\n",
       "      <td>4.0</td>\n",
       "    </tr>\n",
       "    <tr>\n",
       "      <td>...</td>\n",
       "      <td>...</td>\n",
       "      <td>...</td>\n",
       "      <td>...</td>\n",
       "      <td>...</td>\n",
       "    </tr>\n",
       "    <tr>\n",
       "      <td>17730</td>\n",
       "      <td>60</td>\n",
       "      <td>Male</td>\n",
       "      <td>63.0</td>\n",
       "      <td>4.0</td>\n",
       "    </tr>\n",
       "    <tr>\n",
       "      <td>17731</td>\n",
       "      <td>23</td>\n",
       "      <td>Female</td>\n",
       "      <td>67.0</td>\n",
       "      <td>1.0</td>\n",
       "    </tr>\n",
       "    <tr>\n",
       "      <td>17732</td>\n",
       "      <td>58</td>\n",
       "      <td>Male</td>\n",
       "      <td>65.0</td>\n",
       "      <td>5.0</td>\n",
       "    </tr>\n",
       "    <tr>\n",
       "      <td>17733</td>\n",
       "      <td>58</td>\n",
       "      <td>Female</td>\n",
       "      <td>66.0</td>\n",
       "      <td>4.0</td>\n",
       "    </tr>\n",
       "    <tr>\n",
       "      <td>17734</td>\n",
       "      <td>54</td>\n",
       "      <td>Female</td>\n",
       "      <td>62.0</td>\n",
       "      <td>3.0</td>\n",
       "    </tr>\n",
       "  </tbody>\n",
       "</table>\n",
       "<p>17735 rows × 4 columns</p>\n",
       "</div>"
      ],
      "text/plain": [
       "       Age  Gender  Phone Daily Usage  Social Media Apps\n",
       "0       47    Male               55.0                4.0\n",
       "1       19  Female               64.0                1.0\n",
       "2       54  Female               59.0                4.0\n",
       "3       59  Female               66.0                4.0\n",
       "4       55    Male               61.0                4.0\n",
       "...    ...     ...                ...                ...\n",
       "17730   60    Male               63.0                4.0\n",
       "17731   23  Female               67.0                1.0\n",
       "17732   58    Male               65.0                5.0\n",
       "17733   58  Female               66.0                4.0\n",
       "17734   54  Female               62.0                3.0\n",
       "\n",
       "[17735 rows x 4 columns]"
      ]
     },
     "execution_count": 17,
     "metadata": {},
     "output_type": "execute_result"
    }
   ],
   "source": [
    "# Creating a database \n",
    "\n",
    "np.random.seed(12345) # Added seed \n",
    "\n",
    "NewData = pd.DataFrame({'Age':age.round(0), 'Gender':np.random.randint(1, 3, 17735), 'Phone Daily Usage':np.random.normal(65, 3, 17735).round(0),'Social Media Apps':np.random.uniform(1, 5, 17735).round()})\n",
    "NewData['Gender'].replace({1:'Male', 2:'Female'}, inplace=True) # Replacing numbers with strings accordingly\n",
    "NewData # Printed new data frame"
   ]
  },
  {
   "cell_type": "code",
   "execution_count": 18,
   "metadata": {},
   "outputs": [
    {
     "data": {
      "text/html": [
       "<div>\n",
       "<style scoped>\n",
       "    .dataframe tbody tr th:only-of-type {\n",
       "        vertical-align: middle;\n",
       "    }\n",
       "\n",
       "    .dataframe tbody tr th {\n",
       "        vertical-align: top;\n",
       "    }\n",
       "\n",
       "    .dataframe thead th {\n",
       "        text-align: right;\n",
       "    }\n",
       "</style>\n",
       "<table border=\"1\" class=\"dataframe\">\n",
       "  <thead>\n",
       "    <tr style=\"text-align: right;\">\n",
       "      <th></th>\n",
       "      <th>Age</th>\n",
       "      <th>Gender</th>\n",
       "      <th>Phone Daily Usage</th>\n",
       "      <th>Social Media Apps</th>\n",
       "    </tr>\n",
       "  </thead>\n",
       "  <tbody>\n",
       "    <tr>\n",
       "      <td>0</td>\n",
       "      <td>47</td>\n",
       "      <td>Male</td>\n",
       "      <td>55.0</td>\n",
       "      <td>4.0</td>\n",
       "    </tr>\n",
       "    <tr>\n",
       "      <td>1</td>\n",
       "      <td>19</td>\n",
       "      <td>Female</td>\n",
       "      <td>64.0</td>\n",
       "      <td>1.0</td>\n",
       "    </tr>\n",
       "    <tr>\n",
       "      <td>2</td>\n",
       "      <td>54</td>\n",
       "      <td>Female</td>\n",
       "      <td>59.0</td>\n",
       "      <td>4.0</td>\n",
       "    </tr>\n",
       "    <tr>\n",
       "      <td>3</td>\n",
       "      <td>59</td>\n",
       "      <td>Female</td>\n",
       "      <td>66.0</td>\n",
       "      <td>4.0</td>\n",
       "    </tr>\n",
       "    <tr>\n",
       "      <td>4</td>\n",
       "      <td>55</td>\n",
       "      <td>Male</td>\n",
       "      <td>61.0</td>\n",
       "      <td>4.0</td>\n",
       "    </tr>\n",
       "  </tbody>\n",
       "</table>\n",
       "</div>"
      ],
      "text/plain": [
       "   Age  Gender  Phone Daily Usage  Social Media Apps\n",
       "0   47    Male               55.0                4.0\n",
       "1   19  Female               64.0                1.0\n",
       "2   54  Female               59.0                4.0\n",
       "3   59  Female               66.0                4.0\n",
       "4   55    Male               61.0                4.0"
      ]
     },
     "execution_count": 18,
     "metadata": {},
     "output_type": "execute_result"
    }
   ],
   "source": [
    "NewData.head()"
   ]
  },
  {
   "cell_type": "code",
   "execution_count": 20,
   "metadata": {},
   "outputs": [
    {
     "data": {
      "text/plain": [
       "(17735, 4)"
      ]
     },
     "execution_count": 20,
     "metadata": {},
     "output_type": "execute_result"
    }
   ],
   "source": [
    "NewData.shape"
   ]
  },
  {
   "cell_type": "code",
   "execution_count": null,
   "metadata": {},
   "outputs": [],
   "source": []
  },
  {
   "cell_type": "code",
   "execution_count": 21,
   "metadata": {},
   "outputs": [
    {
     "data": {
      "text/html": [
       "<div>\n",
       "<style scoped>\n",
       "    .dataframe tbody tr th:only-of-type {\n",
       "        vertical-align: middle;\n",
       "    }\n",
       "\n",
       "    .dataframe tbody tr th {\n",
       "        vertical-align: top;\n",
       "    }\n",
       "\n",
       "    .dataframe thead th {\n",
       "        text-align: right;\n",
       "    }\n",
       "</style>\n",
       "<table border=\"1\" class=\"dataframe\">\n",
       "  <thead>\n",
       "    <tr style=\"text-align: right;\">\n",
       "      <th></th>\n",
       "      <th>Age</th>\n",
       "      <th>Gender</th>\n",
       "      <th>Phone Daily Usage</th>\n",
       "      <th>Social Media Apps</th>\n",
       "    </tr>\n",
       "  </thead>\n",
       "  <tbody>\n",
       "    <tr>\n",
       "      <td>17730</td>\n",
       "      <td>60</td>\n",
       "      <td>Male</td>\n",
       "      <td>63.0</td>\n",
       "      <td>4.0</td>\n",
       "    </tr>\n",
       "    <tr>\n",
       "      <td>17731</td>\n",
       "      <td>23</td>\n",
       "      <td>Female</td>\n",
       "      <td>67.0</td>\n",
       "      <td>1.0</td>\n",
       "    </tr>\n",
       "    <tr>\n",
       "      <td>17732</td>\n",
       "      <td>58</td>\n",
       "      <td>Male</td>\n",
       "      <td>65.0</td>\n",
       "      <td>5.0</td>\n",
       "    </tr>\n",
       "    <tr>\n",
       "      <td>17733</td>\n",
       "      <td>58</td>\n",
       "      <td>Female</td>\n",
       "      <td>66.0</td>\n",
       "      <td>4.0</td>\n",
       "    </tr>\n",
       "    <tr>\n",
       "      <td>17734</td>\n",
       "      <td>54</td>\n",
       "      <td>Female</td>\n",
       "      <td>62.0</td>\n",
       "      <td>3.0</td>\n",
       "    </tr>\n",
       "  </tbody>\n",
       "</table>\n",
       "</div>"
      ],
      "text/plain": [
       "       Age  Gender  Phone Daily Usage  Social Media Apps\n",
       "17730   60    Male               63.0                4.0\n",
       "17731   23  Female               67.0                1.0\n",
       "17732   58    Male               65.0                5.0\n",
       "17733   58  Female               66.0                4.0\n",
       "17734   54  Female               62.0                3.0"
      ]
     },
     "execution_count": 21,
     "metadata": {},
     "output_type": "execute_result"
    }
   ],
   "source": [
    "NewData.tail()"
   ]
  },
  {
   "cell_type": "code",
   "execution_count": 22,
   "metadata": {},
   "outputs": [
    {
     "data": {
      "text/plain": [
       "count    17735.0\n",
       "mean        41.0\n",
       "std         14.0\n",
       "min         18.0\n",
       "25%         29.0\n",
       "50%         41.0\n",
       "75%         53.0\n",
       "max         64.0\n",
       "Name: Age, dtype: float64"
      ]
     },
     "execution_count": 22,
     "metadata": {},
     "output_type": "execute_result"
    }
   ],
   "source": [
    "NewData[\"Age\"].describe().round(0) # checked for descriptive statistics of age"
   ]
  },
  {
   "cell_type": "markdown",
   "metadata": {},
   "source": [
    "## References\n",
    "\n",
    "\n",
    "https://www.cso.ie/en/releasesandpublications/"
   ]
  }
 ],
 "metadata": {
  "kernelspec": {
   "display_name": "Python 3",
   "language": "python",
   "name": "python3"
  },
  "language_info": {
   "codemirror_mode": {
    "name": "ipython",
    "version": 3
   },
   "file_extension": ".py",
   "mimetype": "text/x-python",
   "name": "python",
   "nbconvert_exporter": "python",
   "pygments_lexer": "ipython3",
   "version": "3.7.4"
  }
 },
 "nbformat": 4,
 "nbformat_minor": 2
}
